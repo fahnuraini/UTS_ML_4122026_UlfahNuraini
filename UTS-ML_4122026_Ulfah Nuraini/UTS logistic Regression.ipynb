{
 "cells": [
  {
   "cell_type": "code",
   "execution_count": 3,
   "id": "abaa2274-d243-44ee-8098-59b4d9d425b0",
   "metadata": {},
   "outputs": [
    {
     "name": "stdout",
     "output_type": "stream",
     "text": [
      "Akurasi Model: 0.89\n",
      "\n",
      "Confusion Matrix:\n",
      "[[67  5]\n",
      " [11 67]]\n",
      "\n",
      "Classification Report:\n",
      "              precision    recall  f1-score   support\n",
      "\n",
      "           0       0.86      0.93      0.89        72\n",
      "           1       0.93      0.86      0.89        78\n",
      "\n",
      "    accuracy                           0.89       150\n",
      "   macro avg       0.89      0.89      0.89       150\n",
      "weighted avg       0.90      0.89      0.89       150\n",
      "\n"
     ]
    }
   ],
   "source": [
    "# Import library yang diperlukan\n",
    "# Import library yang dibutuhkan\n",
    "from sklearn.datasets import make_classification\n",
    "from sklearn.model_selection import train_test_split\n",
    "from sklearn.linear_model import LogisticRegression\n",
    "from sklearn.metrics import accuracy_score, confusion_matrix, classification_report\n",
    "\n",
    "# 1. Membuat dataset buatan (klasifikasi biner)\n",
    "X, y = make_classification(\n",
    "    n_samples=500,   # jumlah sampel\n",
    "    n_features=5,    # jumlah fitur\n",
    "    n_informative=3, # fitur yang relevan\n",
    "    n_redundant=0,   # fitur redundant\n",
    "    n_classes=2,     # kelas target (0 dan 1)\n",
    "    random_state=42\n",
    ")\n",
    "\n",
    "# 2. Membagi data menjadi train (70%) dan test (30%)\n",
    "X_train, X_test, y_train, y_test = train_test_split(\n",
    "    X, y, test_size=0.3, random_state=42\n",
    ")\n",
    "\n",
    "# 3. Membuat model Regresi Logistik\n",
    "model = LogisticRegression()\n",
    "\n",
    "# 4. Melatih model dengan data training\n",
    "model.fit(X_train, y_train)\n",
    "\n",
    "# 5. Melakukan prediksi pada data test\n",
    "y_pred = model.predict(X_test)\n",
    "\n",
    "# 6. Mengevaluasi model\n",
    "accuracy = accuracy_score(y_test, y_pred)\n",
    "conf_matrix = confusion_matrix(y_test, y_pred)\n",
    "report = classification_report(y_test, y_pred)\n",
    "\n",
    "print(f\"Akurasi Model: {accuracy:.2f}\\n\")\n",
    "print(\"Confusion Matrix:\")\n",
    "print(conf_matrix)\n",
    "print(\"\\nClassification Report:\")\n",
    "print(report)\n",
    "\n"
   ]
  },
  {
   "cell_type": "code",
   "execution_count": null,
   "id": "4f5bba5c-c536-4165-a2cc-36c06be95b0c",
   "metadata": {},
   "outputs": [],
   "source": []
  }
 ],
 "metadata": {
  "kernelspec": {
   "display_name": "Python 3 (ipykernel)",
   "language": "python",
   "name": "python3"
  },
  "language_info": {
   "codemirror_mode": {
    "name": "ipython",
    "version": 3
   },
   "file_extension": ".py",
   "mimetype": "text/x-python",
   "name": "python",
   "nbconvert_exporter": "python",
   "pygments_lexer": "ipython3",
   "version": "3.12.6"
  }
 },
 "nbformat": 4,
 "nbformat_minor": 5
}
